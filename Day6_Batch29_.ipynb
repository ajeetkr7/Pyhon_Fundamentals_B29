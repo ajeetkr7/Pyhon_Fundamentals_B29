{
 "cells": [
  {
   "cell_type": "code",
   "execution_count": 12,
   "metadata": {},
   "outputs": [],
   "source": [
    "my_students = ['Abhi', 'vinay', 'Rajini', 'Jyothi', 'Rakhi','Karthik','Subir', 'dhanu','Pooja']"
   ]
  },
  {
   "cell_type": "code",
   "execution_count": 13,
   "metadata": {},
   "outputs": [
    {
     "name": "stdout",
     "output_type": "stream",
     "text": [
      "['Abhi', 'vinay', 'Rajini', 'Jyothi', 'Rakhi', 'Karthik', 'Subir', 'dhanu', 'Pooja']\n"
     ]
    }
   ],
   "source": [
    "print(my_students)"
   ]
  },
  {
   "cell_type": "code",
   "execution_count": 14,
   "metadata": {},
   "outputs": [
    {
     "name": "stdout",
     "output_type": "stream",
     "text": [
      "['Abhi', 'Rajini', 'Rakhi', 'Subir', 'Pooja']\n"
     ]
    }
   ],
   "source": [
    "#req: To get every alternate studnet in a group\n",
    "print(my_students[0:9:2])"
   ]
  },
  {
   "cell_type": "code",
   "execution_count": 15,
   "metadata": {},
   "outputs": [
    {
     "name": "stdout",
     "output_type": "stream",
     "text": [
      "['Abhi', 'Rakhi', 'Pooja']\n"
     ]
    }
   ],
   "source": [
    "print(my_students[0:9:4]) #req, evry fourth student"
   ]
  },
  {
   "cell_type": "code",
   "execution_count": 16,
   "metadata": {},
   "outputs": [],
   "source": [
    "#Introduction to for Loops\n",
    "new_students = ['Anjali','Banu','Rani','kavya','Mansoora','Ajeet','Nidhi','Tofu','Amit']"
   ]
  },
  {
   "cell_type": "code",
   "execution_count": 18,
   "metadata": {},
   "outputs": [
    {
     "name": "stdout",
     "output_type": "stream",
     "text": [
      "Keep up the good , Anjali\n"
     ]
    }
   ],
   "source": [
    "#req to cheer up students for good work\n",
    "print(f\"Keep up the good , {new_students[0]}\")"
   ]
  },
  {
   "cell_type": "code",
   "execution_count": 7,
   "metadata": {},
   "outputs": [
    {
     "name": "stdout",
     "output_type": "stream",
     "text": [
      "Keep up the good work ,Anjali\n",
      "\n",
      "Keep up the good work ,Banu\n",
      "\n",
      "Keep up the good work ,Rani\n",
      "\n",
      "Keep up the good work ,Kavya\n",
      "\n",
      "Keep up the good work ,Mansoora\n",
      "\n",
      "Keep up the good work ,Nidhi\n",
      "\n",
      "Keep up the good work ,Ajeet\n",
      "\n",
      "Keep up the good work ,Tofu\n",
      "\n",
      "Keep up the good work ,Amit\n",
      "\n"
     ]
    }
   ],
   "source": [
    "#req cheer up all students\n",
    "for students in new_students:\n",
    "    print(f\"Keep up the good work ,{students.title()}\\n\") # format and new line"
   ]
  },
  {
   "cell_type": "code",
   "execution_count": 19,
   "metadata": {},
   "outputs": [
    {
     "name": "stdout",
     "output_type": "stream",
     "text": [
      "And Please remember that practise and consistency is the key and never give up, good luck , Anjali\n",
      "\n",
      "And Please remember that practise and consistency is the key and never give up, good luck , Banu\n",
      "\n",
      "And Please remember that practise and consistency is the key and never give up, good luck , Rani\n",
      "\n",
      "And Please remember that practise and consistency is the key and never give up, good luck , Kavya\n",
      "\n",
      "And Please remember that practise and consistency is the key and never give up, good luck , Mansoora\n",
      "\n",
      "And Please remember that practise and consistency is the key and never give up, good luck , Ajeet\n",
      "\n",
      "And Please remember that practise and consistency is the key and never give up, good luck , Nidhi\n",
      "\n",
      "And Please remember that practise and consistency is the key and never give up, good luck , Tofu\n",
      "\n",
      "And Please remember that practise and consistency is the key and never give up, good luck , Amit\n",
      "\n"
     ]
    }
   ],
   "source": [
    "#req, format and new line, encouragement\n",
    "for s in new_students:\n",
    "    print(f\"And Please remember that practise and consistency is the key and never give up, good luck , {s.title()}\\n\")"
   ]
  },
  {
   "cell_type": "code",
   "execution_count": null,
   "metadata": {},
   "outputs": [],
   "source": []
  }
 ],
 "metadata": {
  "kernelspec": {
   "display_name": "Python 3",
   "language": "python",
   "name": "python3"
  },
  "language_info": {
   "codemirror_mode": {
    "name": "ipython",
    "version": 3
   },
   "file_extension": ".py",
   "mimetype": "text/x-python",
   "name": "python",
   "nbconvert_exporter": "python",
   "pygments_lexer": "ipython3",
   "version": "3.6.5"
  }
 },
 "nbformat": 4,
 "nbformat_minor": 2
}
